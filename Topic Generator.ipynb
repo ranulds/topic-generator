{
 "cells": [
  {
   "cell_type": "code",
   "execution_count": 1,
   "metadata": {},
   "outputs": [],
   "source": [
    "import pandas as pd\n",
    "import json\n",
    "from openai import AzureOpenAI"
   ]
  },
  {
   "cell_type": "code",
   "execution_count": 11,
   "metadata": {},
   "outputs": [],
   "source": [
    "client = AzureOpenAI(\n",
    "  api_key = GPT4_KEY,  \n",
    "  api_version = \"2024-05-01-preview\",\n",
    "  azure_endpoint = GPT4_ENDPOINT\n",
    ")"
   ]
  },
  {
   "cell_type": "code",
   "execution_count": null,
   "metadata": {},
   "outputs": [],
   "source": [
    "df = pd.read_excel(\"KPI Names Shortening - 7.24.xlsx\", engine=\"calamine\", usecols=\"B\")\n",
    "df[\"Topics\"] = \"\"\n",
    "df"
   ]
  },
  {
   "cell_type": "code",
   "execution_count": 30,
   "metadata": {},
   "outputs": [],
   "source": [
    "res = {}\n",
    "\n",
    "for i in range(0, len(df), 9):\n",
    "    try:\n",
    "        data = df.iloc[i:i+9].set_index(\"KPI Name\").squeeze().to_dict()\n",
    "        data = json.dumps(data, ensure_ascii=False)\n",
    "        response = client.chat.completions.create(\n",
    "            model=\"gpt-4o\",\n",
    "            response_format={ \"type\": \"json_object\" },\n",
    "            messages=[\n",
    "                {\"role\": \"system\", \"content\": \"\"\"\n",
    "                                            You are an AI assitant that generate topics based on descriptions.\n",
    "                                            Do not use words different from the descriptions to generate the topics.\n",
    "                                            Keep the topics short.\n",
    "                                            You will be provided a JSON object where the keys are the descriptions and you must fill in the corresponding values with the generated topics.\n",
    "                                            Only return the JSON object with the filled in topics in the response.\n",
    "\n",
    "                                            For example:\n",
    "                                            {\"Disclose a confirmation that the scope of consolidation is the same as for the financial statements, or, where applicable, a declaration that the reporting undertaking is not required to draw-up financial statements or that the reporting undertaking is preparing consolidated sustainability reporting pursuant to Article 48i of Directive 2013/34/EU\":\"Scope of Consolidation and Reporting Requirements\"}\"\"\"},\n",
    "                {\"role\": \"user\", \"content\": \"Generate topics for the following:{0}\".format(data)}\n",
    "            ]\n",
    "        )\n",
    "        \n",
    "        if response.choices[0].finish_reason != \"stop\":\n",
    "            print(i)\n",
    "            print(response.model_dump_json(indent=2))\n",
    "            break\n",
    "\n",
    "        res.update(json.loads(response.choices[0].message.content))\n",
    "\n",
    "    except Exception as e:\n",
    "        print(f\"Error: {e}\")\n",
    "        print(i)\n",
    "        break\n"
   ]
  },
  {
   "cell_type": "code",
   "execution_count": null,
   "metadata": {},
   "outputs": [],
   "source": [
    "result = pd.DataFrame(list(res.items()), columns=['Description', 'Topic'])\n",
    "result"
   ]
  },
  {
   "cell_type": "code",
   "execution_count": null,
   "metadata": {},
   "outputs": [],
   "source": [
    "excel_file = '1371.xlsx'\n",
    "result.to_excel(excel_file, index=False)\n",
    "print(f\"Excel file '{excel_file}' has been created.\")"
   ]
  }
 ],
 "metadata": {
  "kernelspec": {
   "display_name": ".venv",
   "language": "python",
   "name": "python3"
  },
  "language_info": {
   "codemirror_mode": {
    "name": "ipython",
    "version": 3
   },
   "file_extension": ".py",
   "mimetype": "text/x-python",
   "name": "python",
   "nbconvert_exporter": "python",
   "pygments_lexer": "ipython3",
   "version": "3.11.9"
  }
 },
 "nbformat": 4,
 "nbformat_minor": 2
}
